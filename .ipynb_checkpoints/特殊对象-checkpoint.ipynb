{
 "cells": [
  {
   "cell_type": "markdown",
   "metadata": {},
   "source": [
    "# 特殊方法"
   ]
  },
  {
   "cell_type": "markdown",
   "metadata": {},
   "source": [
    "## item系列\n",
    "\n",
    "item使得实例对象像字典一样调用，如a[0],a['key']"
   ]
  },
  {
   "cell_type": "code",
   "execution_count": 7,
   "metadata": {},
   "outputs": [],
   "source": [
    "#增加或修改\n",
    "class myarray(object):\n",
    "    def __init__(self):\n",
    "        self.dic={0:3,'str':'zhang'}\n",
    "    def __setitem__(self,key,value):\n",
    "        self.dic[key]=value\n",
    "    def __getitem__(self,key):\n",
    "        return self.dic[key]\n",
    "    def __delitem__(self,key):\n",
    "        self.dic.pop(key)\n",
    "a=myarray()\n",
    "a[1]=4"
   ]
  },
  {
   "cell_type": "code",
   "execution_count": 8,
   "metadata": {},
   "outputs": [],
   "source": [
    "#删除\n",
    "del a[0]"
   ]
  },
  {
   "cell_type": "code",
   "execution_count": 10,
   "metadata": {},
   "outputs": [
    {
     "data": {
      "text/plain": [
       "(4, 'zhang')"
      ]
     },
     "execution_count": 10,
     "metadata": {},
     "output_type": "execute_result"
    }
   ],
   "source": [
    "#查看\n",
    "a[1],a['str']"
   ]
  },
  {
   "cell_type": "markdown",
   "metadata": {},
   "source": [
    "## 生成器"
   ]
  },
  {
   "cell_type": "markdown",
   "metadata": {},
   "source": [
    "### iterable & iterator"
   ]
  },
  {
   "cell_type": "markdown",
   "metadata": {},
   "source": [
    "Iterable: 有迭代能力的对象，一个类，实现了__iter__,iter通常返回一个实现了next的对象\n",
    "\n",
    "Iterator: 迭代器(当然也是Iterable)，同时实现了__iter__和__next__的对象"
   ]
  },
  {
   "cell_type": "markdown",
   "metadata": {},
   "source": [
    "__next__函数会保存指向下一个对象的指针"
   ]
  },
  {
   "cell_type": "code",
   "execution_count": 68,
   "metadata": {},
   "outputs": [],
   "source": [
    "class MyTest1(object):\n",
    "    def __iter__(self):\n",
    "        \"\"\"\n",
    "        该方法需要返回一个实现了__next__的对象，可以是自身\n",
    "        通过for.in.遍历对象时，会执行__iter__方法，\n",
    "        然后执行返回对象的__next__\n",
    "        \n",
    "        \"\"\"\n",
    "        return MyTest2()\n",
    "\n",
    "class MyTest2(object):\n",
    "    def __next__(self):\n",
    "        return 'learning'\n",
    "    \n",
    "class MyTest3(object):\n",
    "    def __iter__(self):\n",
    "        return MyTest2()\n",
    "    def __next__(self):\n",
    "        return 'learning'"
   ]
  },
  {
   "cell_type": "code",
   "execution_count": 74,
   "metadata": {},
   "outputs": [],
   "source": [
    "mt1=MyTest3()"
   ]
  },
  {
   "cell_type": "code",
   "execution_count": 75,
   "metadata": {},
   "outputs": [
    {
     "data": {
      "text/plain": [
       "'learning'"
      ]
     },
     "execution_count": 75,
     "metadata": {},
     "output_type": "execute_result"
    }
   ],
   "source": [
    "next(mt1)"
   ]
  },
  {
   "cell_type": "code",
   "execution_count": null,
   "metadata": {},
   "outputs": [],
   "source": [
    "for i in mt:\n",
    "    print(i)"
   ]
  },
  {
   "cell_type": "code",
   "execution_count": 46,
   "metadata": {},
   "outputs": [
    {
     "name": "stdout",
     "output_type": "stream",
     "text": [
      "True\n",
      "False\n",
      "-----------------------------\n",
      "False\n",
      "False\n",
      "-----------------------------\n",
      "True\n",
      "True\n"
     ]
    }
   ],
   "source": [
    "from collections.abc import *\n",
    "print(isinstance(mt1, Iterable))\n",
    "print(isinstance(mt1, Iterator))\n",
    "print('-----------------------------')\n",
    "\n",
    "mt2=MyTest2()\n",
    "print(isinstance(mt2, Iterable))\n",
    "print(isinstance(mt2, Iterator))\n",
    "print('-----------------------------')\n",
    "\n",
    "mt3=MyTest3()\n",
    "print(isinstance(mt3, Iterable))\n",
    "print(isinstance(mt3, Iterator))"
   ]
  },
  {
   "cell_type": "code",
   "execution_count": 102,
   "metadata": {},
   "outputs": [],
   "source": [
    "class MyTest4(object):\n",
    "    def __init__(self,start,end):\n",
    "        self.start=start\n",
    "        self.end=end\n",
    "    def __iter__(self):\n",
    "        return self\n",
    "    def __next__(self):\n",
    "        if self.start < self.end:\n",
    "            ret=self.start\n",
    "            self.start+=1\n",
    "            return ret\n",
    "        else:\n",
    "            raise StopIteration"
   ]
  },
  {
   "cell_type": "code",
   "execution_count": 103,
   "metadata": {},
   "outputs": [],
   "source": [
    "mt4=MyTest4(0,4)"
   ]
  },
  {
   "cell_type": "code",
   "execution_count": 104,
   "metadata": {},
   "outputs": [
    {
     "data": {
      "text/plain": [
       "<__main__.MyTest4 at 0x2559b4e16d8>"
      ]
     },
     "execution_count": 104,
     "metadata": {},
     "output_type": "execute_result"
    }
   ],
   "source": [
    "iter(mt4)"
   ]
  },
  {
   "cell_type": "code",
   "execution_count": 76,
   "metadata": {},
   "outputs": [
    {
     "data": {
      "text/plain": [
       "3"
      ]
     },
     "execution_count": 76,
     "metadata": {},
     "output_type": "execute_result"
    }
   ],
   "source": [
    "#next函数本质执行的是类里面的__next__方法****\n",
    "next(mt4)"
   ]
  },
  {
   "cell_type": "code",
   "execution_count": 66,
   "metadata": {},
   "outputs": [
    {
     "data": {
      "text/plain": [
       "1"
      ]
     },
     "execution_count": 66,
     "metadata": {},
     "output_type": "execute_result"
    }
   ],
   "source": [
    "mt4.__next__()"
   ]
  },
  {
   "cell_type": "markdown",
   "metadata": {},
   "source": [
    "如果使用列表的方式，那么是会全部载入内存的，但是如果使用迭代器，可以看见，当用到了(也就是在调用了next)才会产生对应的数字，这样就可以节约内存了，这是一种懒惰的加载方式。"
   ]
  },
  {
   "cell_type": "markdown",
   "metadata": {},
   "source": [
    "总结\n",
    "\n",
    "1，Iterator和Iterable配合isinstance函数来判断一个对象是否是可迭代的，是否是迭代器对象\n",
    "\n",
    "2，iter实际是映射到了__iter__函数\n",
    "\n",
    "3，只要实现了__iter__的对象就是可迭代对象(Iterable)，正常情况下，应该返回一个实现了__next__的对象(虽然这个要求不强制)，如果自己实现了__next__，当然也可以返回自己\n",
    "\n",
    "4，同时实现了__iter__和__next__的是迭代器(Iterator)，当然也是一个可迭代对象了，其中__next__应该在迭代完成后，抛出一个StopIteration异常\n",
    "\n",
    "5，for语句会自动处理这个StopIteration异常以便结束for循环\n",
    "\n",
    "https://www.jianshu.com/p/1b0686bc166d"
   ]
  },
  {
   "cell_type": "markdown",
   "metadata": {},
   "source": [
    "### yield关键字"
   ]
  },
  {
   "cell_type": "markdown",
   "metadata": {},
   "source": [
    "yield 的作用就是把一个函数变成一个 generator\n",
    "\n",
    "yield内部实现了iter和next\n",
    "\n",
    "调用该函数，返回一个Iterable对象"
   ]
  },
  {
   "cell_type": "code",
   "execution_count": 107,
   "metadata": {},
   "outputs": [],
   "source": [
    "def fab(max):\n",
    "    n,a,b=0,0,1\n",
    "    l=[]\n",
    "    while n<max:\n",
    "        l.append(b)\n",
    "        a,b=b,a+b\n",
    "        n=n+1\n",
    "    return l"
   ]
  },
  {
   "cell_type": "code",
   "execution_count": 86,
   "metadata": {},
   "outputs": [
    {
     "data": {
      "text/plain": [
       "[1, 1, 2, 3, 5]"
      ]
     },
     "execution_count": 86,
     "metadata": {},
     "output_type": "execute_result"
    }
   ],
   "source": [
    "fab(5)"
   ]
  },
  {
   "cell_type": "code",
   "execution_count": 113,
   "metadata": {},
   "outputs": [],
   "source": [
    "class Fab(object):\n",
    "    def __init__(self,max):\n",
    "        self.max=max\n",
    "        self.a=0\n",
    "        self.b=1\n",
    "        self.n=0\n",
    "    def __iter__(self):\n",
    "        return self\n",
    "    def __next__(self):\n",
    "        if self.n<self.max:\n",
    "            r=self.b\n",
    "            self.a,self.b=self.b,self.a+self.b\n",
    "            self.n+=1\n",
    "            return r\n",
    "        else:\n",
    "            raise StopIteration()"
   ]
  },
  {
   "cell_type": "code",
   "execution_count": 114,
   "metadata": {},
   "outputs": [],
   "source": [
    "f=Fab(5)"
   ]
  },
  {
   "cell_type": "code",
   "execution_count": 101,
   "metadata": {},
   "outputs": [
    {
     "data": {
      "text/plain": [
       "5"
      ]
     },
     "execution_count": 101,
     "metadata": {},
     "output_type": "execute_result"
    }
   ],
   "source": [
    "f.__next__()"
   ]
  },
  {
   "cell_type": "code",
   "execution_count": 110,
   "metadata": {},
   "outputs": [],
   "source": [
    "def fab(max):\n",
    "    n,a,b=0,0,1\n",
    "    while n<max:\n",
    "        yield b\n",
    "        a,b=b,a+b\n",
    "        n=n+1"
   ]
  },
  {
   "cell_type": "code",
   "execution_count": 111,
   "metadata": {},
   "outputs": [
    {
     "data": {
      "text/plain": [
       "<generator object fab at 0x000002559D1AA8B8>"
      ]
     },
     "execution_count": 111,
     "metadata": {},
     "output_type": "execute_result"
    }
   ],
   "source": [
    "fab(5)"
   ]
  },
  {
   "cell_type": "markdown",
   "metadata": {},
   "source": [
    "1,带有 yield 的函数不再是一个普通函数，Python 解释器会将其视为一个 generator，\n",
    "\n",
    "2,调用 fab(5) 不会执行 fab 函数，而是返回一个 iterable 对象！\n",
    "\n",
    "3,在 for 循环执行时，每次循环都会执行 fab 函数内部的代码，执行到 yield b 时，fab 函数就返回一个迭代值，下次迭代时，代码从 yield b 的下一条语句继续执行，而函数的本地变量看起来和上次中断执行前是完全一样的，于是函数继续执行，直到再次遇到 yield\n",
    "\n",
    "https://www.ibm.com/developerworks/cn/opensource/os-cn-python-yield/"
   ]
  },
  {
   "cell_type": "markdown",
   "metadata": {},
   "source": [
    "fab是函数，而fab(5)是可迭代对象，因此可用for.in.遍历"
   ]
  },
  {
   "cell_type": "code",
   "execution_count": 108,
   "metadata": {},
   "outputs": [
    {
     "name": "stdout",
     "output_type": "stream",
     "text": [
      "1\n",
      "1\n",
      "2\n",
      "3\n",
      "5\n"
     ]
    }
   ],
   "source": [
    "for i in fab(5):\n",
    "    print(i)"
   ]
  },
  {
   "cell_type": "code",
   "execution_count": 112,
   "metadata": {},
   "outputs": [
    {
     "data": {
      "text/plain": [
       "True"
      ]
     },
     "execution_count": 112,
     "metadata": {},
     "output_type": "execute_result"
    }
   ],
   "source": [
    "from inspect import isgeneratorfunction\n",
    "isgeneratorfunction(fab)"
   ]
  },
  {
   "cell_type": "code",
   "execution_count": 116,
   "metadata": {},
   "outputs": [
    {
     "data": {
      "text/plain": [
       "True"
      ]
     },
     "execution_count": 116,
     "metadata": {},
     "output_type": "execute_result"
    }
   ],
   "source": [
    "import types\n",
    "isinstance(fab(5), types.GeneratorType)"
   ]
  },
  {
   "cell_type": "code",
   "execution_count": 118,
   "metadata": {},
   "outputs": [],
   "source": [
    "#文件读取，节约内存\n",
    "def read_file(fpath):\n",
    "    BLOCK_SIZE=1024\n",
    "    with open(fpath,'rb') as f:\n",
    "        while True:\n",
    "            block=f.read(BLOCK_SIZE)\n",
    "            if block:\n",
    "                yield block\n",
    "            else:\n",
    "                return"
   ]
  },
  {
   "cell_type": "code",
   "execution_count": null,
   "metadata": {},
   "outputs": [],
   "source": []
  }
 ],
 "metadata": {
  "kernelspec": {
   "display_name": "Python 3",
   "language": "python",
   "name": "python3"
  },
  "language_info": {
   "codemirror_mode": {
    "name": "ipython",
    "version": 3
   },
   "file_extension": ".py",
   "mimetype": "text/x-python",
   "name": "python",
   "nbconvert_exporter": "python",
   "pygments_lexer": "ipython3",
   "version": "3.7.1"
  },
  "toc": {
   "base_numbering": 1,
   "nav_menu": {},
   "number_sections": true,
   "sideBar": true,
   "skip_h1_title": false,
   "title_cell": "Table of Contents",
   "title_sidebar": "Contents",
   "toc_cell": false,
   "toc_position": {},
   "toc_section_display": true,
   "toc_window_display": false
  }
 },
 "nbformat": 4,
 "nbformat_minor": 2
}
