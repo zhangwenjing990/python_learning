{
 "cells": [
  {
   "cell_type": "code",
   "execution_count": 1,
   "metadata": {},
   "outputs": [],
   "source": [
    "import copy"
   ]
  },
  {
   "cell_type": "code",
   "execution_count": 53,
   "metadata": {},
   "outputs": [],
   "source": [
    "a=[7,[9,8]]"
   ]
  },
  {
   "cell_type": "code",
   "execution_count": 54,
   "metadata": {},
   "outputs": [
    {
     "name": "stdout",
     "output_type": "stream",
     "text": [
      "2293424618696 140716609287184 2293423734984 140716609287248\n"
     ]
    }
   ],
   "source": [
    "print(id(a),id(a[0]),id(a[1]),id(a[1][0]))"
   ]
  },
  {
   "cell_type": "code",
   "execution_count": 45,
   "metadata": {},
   "outputs": [],
   "source": [
    "a[0]=22\n",
    "a[1][0]=33"
   ]
  },
  {
   "cell_type": "code",
   "execution_count": 46,
   "metadata": {},
   "outputs": [
    {
     "name": "stdout",
     "output_type": "stream",
     "text": [
      "2293418352584 140716609287664 2293423967048 140716609288016\n"
     ]
    }
   ],
   "source": [
    "print(id(a),id(a[0]),id(a[1]),id(a[1][0]))"
   ]
  },
  {
   "cell_type": "code",
   "execution_count": 55,
   "metadata": {},
   "outputs": [],
   "source": [
    "b1=a"
   ]
  },
  {
   "cell_type": "code",
   "execution_count": 57,
   "metadata": {},
   "outputs": [
    {
     "name": "stdout",
     "output_type": "stream",
     "text": [
      "[7, [9, 8]]\n",
      "2293424618696 140716609287184 2293423734984 140716609287248\n"
     ]
    }
   ],
   "source": [
    "print(b1)\n",
    "print(id(b1),id(b1[0]),id(b1[1]),id(b1[1][0]))"
   ]
  },
  {
   "cell_type": "code",
   "execution_count": 58,
   "metadata": {},
   "outputs": [],
   "source": [
    "b2=a[:]"
   ]
  },
  {
   "cell_type": "code",
   "execution_count": 59,
   "metadata": {},
   "outputs": [
    {
     "name": "stdout",
     "output_type": "stream",
     "text": [
      "[7, [9, 8]]\n",
      "2293423920200 140716609287184 2293423734984 140716609287248\n"
     ]
    }
   ],
   "source": [
    "print(b2)\n",
    "print(id(b2),id(b2[0]),id(b2[1]),id(b2[1][0]))"
   ]
  },
  {
   "cell_type": "code",
   "execution_count": 60,
   "metadata": {},
   "outputs": [],
   "source": [
    "b3=list(a)"
   ]
  },
  {
   "cell_type": "code",
   "execution_count": 61,
   "metadata": {},
   "outputs": [
    {
     "name": "stdout",
     "output_type": "stream",
     "text": [
      "[7, [9, 8]]\n",
      "2293423736904 140716609287184 2293423734984 140716609287248\n"
     ]
    }
   ],
   "source": [
    "print(b3)\n",
    "print(id(b3),id(b3[0]),id(b3[1]),id(b3[1][0]))"
   ]
  },
  {
   "cell_type": "code",
   "execution_count": 62,
   "metadata": {},
   "outputs": [],
   "source": [
    "b4=a*1"
   ]
  },
  {
   "cell_type": "code",
   "execution_count": 63,
   "metadata": {},
   "outputs": [
    {
     "name": "stdout",
     "output_type": "stream",
     "text": [
      "[7, [9, 8]]\n",
      "2293418377800 140716609287184 2293423734984 140716609287248\n"
     ]
    }
   ],
   "source": [
    "print(b4)\n",
    "print(id(b4),id(b4[0]),id(b4[1]),id(b4[1][0]))"
   ]
  },
  {
   "cell_type": "code",
   "execution_count": 64,
   "metadata": {},
   "outputs": [],
   "source": [
    "b5=copy.copy(a)"
   ]
  },
  {
   "cell_type": "code",
   "execution_count": 65,
   "metadata": {},
   "outputs": [
    {
     "name": "stdout",
     "output_type": "stream",
     "text": [
      "[7, [9, 8]]\n",
      "2293424651080 140716609287184 2293423734984 140716609287248\n"
     ]
    }
   ],
   "source": [
    "print(b5)\n",
    "print(id(b5),id(b5[0]),id(b5[1]),id(b5[1][0]))"
   ]
  },
  {
   "cell_type": "code",
   "execution_count": 66,
   "metadata": {},
   "outputs": [],
   "source": [
    "b6=copy.deepcopy(a)"
   ]
  },
  {
   "cell_type": "code",
   "execution_count": 67,
   "metadata": {},
   "outputs": [
    {
     "name": "stdout",
     "output_type": "stream",
     "text": [
      "[7, [9, 8]]\n",
      "2293424615944 140716609287184 2293419800776 140716609287248\n"
     ]
    }
   ],
   "source": [
    "print(b6)\n",
    "print(id(b6),id(b6[0]),id(b6[1]),id(b6[1][0]))"
   ]
  },
  {
   "cell_type": "code",
   "execution_count": null,
   "metadata": {},
   "outputs": [],
   "source": []
  }
 ],
 "metadata": {
  "kernelspec": {
   "display_name": "Python 3",
   "language": "python",
   "name": "python3"
  },
  "language_info": {
   "codemirror_mode": {
    "name": "ipython",
    "version": 3
   },
   "file_extension": ".py",
   "mimetype": "text/x-python",
   "name": "python",
   "nbconvert_exporter": "python",
   "pygments_lexer": "ipython3",
   "version": "3.7.1"
  },
  "toc": {
   "base_numbering": 1,
   "nav_menu": {},
   "number_sections": true,
   "sideBar": true,
   "skip_h1_title": false,
   "title_cell": "Table of Contents",
   "title_sidebar": "Contents",
   "toc_cell": false,
   "toc_position": {},
   "toc_section_display": true,
   "toc_window_display": false
  }
 },
 "nbformat": 4,
 "nbformat_minor": 2
}
